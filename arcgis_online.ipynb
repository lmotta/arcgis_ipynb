{
 "cells": [
  {
   "cell_type": "markdown",
   "metadata": {},
   "source": [
    "## Welcome to your notebook.\n"
   ]
  },
  {
   "cell_type": "markdown",
   "metadata": {
    "tags": []
   },
   "source": [
    "#### Portals"
   ]
  },
  {
   "cell_type": "code",
   "execution_count": 12,
   "metadata": {},
   "outputs": [],
   "source": [
    "from credential import credential\n",
    "\n",
    "cred_agol, cred_prod, cred_hom = credential('C:/Users/96328576749/Documents/_2023/arcgis_contas/arcgis_credential.json')"
   ]
  },
  {
   "cell_type": "code",
   "execution_count": null,
   "metadata": {},
   "outputs": [],
   "source": [
    "# https://developers.arcgis.com/python/guide/cloning-content/\n",
    "from arcgis.gis import GIS\n",
    "portal = lambda cred: GIS( cred.host, cred.user, cred.pwd, verify_cert=False )\n",
    "\n",
    "portal_prod = portal( cred_prod )\n",
    "portal_agol = portal( cred_agol )\n",
    "print( portal_prod, portal_agol )"
   ]
  },
  {
   "cell_type": "code",
   "execution_count": null,
   "metadata": {},
   "outputs": [],
   "source": [
    "#dir(portal_agol)\n",
    "#dir(portal_agol.users)\n",
    "portal_agol.users.search()"
   ]
  },
  {
   "cell_type": "code",
   "execution_count": null,
   "metadata": {},
   "outputs": [],
   "source": [
    "user_prevfogo_dmc = portal_agol.users.get('prevfogo.dmc')"
   ]
  },
  {
   "cell_type": "code",
   "execution_count": null,
   "metadata": {},
   "outputs": [],
   "source": [
    "#dir(user_prevfogo_dmc)\n",
    "user_prevfogo_dmc.items()"
   ]
  },
  {
   "cell_type": "code",
   "execution_count": null,
   "metadata": {},
   "outputs": [],
   "source": [
    "# Groups\n",
    "portal_agol.groups.search(max_groups=50)"
   ]
  },
  {
   "cell_type": "markdown",
   "metadata": {
    "jp-MarkdownHeadingCollapsed": true,
    "tags": []
   },
   "source": [
    "#### Types of items"
   ]
  },
  {
   "cell_type": "code",
   "execution_count": null,
   "metadata": {},
   "outputs": [],
   "source": [
    "item = portal_prod.content.get('ffc94fcea7284c1298cddbd11ec6f5ea')\n",
    "print( \"{0}: {1}\".format( item.type, str(item) ) )\n",
    "item"
   ]
  },
  {
   "cell_type": "code",
   "execution_count": null,
   "metadata": {},
   "outputs": [],
   "source": [
    "owner = 'prevfogo.adm'\n",
    "owner_contents = portal_prod.content.search( \"owner:{owner}\".format(owner=owner), max_items=50 ) # total = 47 (28/06/2023)"
   ]
  },
  {
   "cell_type": "code",
   "execution_count": null,
   "metadata": {},
   "outputs": [],
   "source": [
    "str_type = lambda item: str(item).split(':')[2][:-6]\n",
    "# Name of types\n",
    "str_type = lambda item: \"{0}: {1}\".format(item.type, str(item).split(':')[2][:-6] )\n",
    "types_item = [ \"{0}: {1}\".format( item.type, str_type( item ) ) for item in owner_contents ]\n",
    "set(sorted( types_item ))"
   ]
  },
  {
   "cell_type": "code",
   "execution_count": null,
   "metadata": {},
   "outputs": [],
   "source": [
    "# Service Definition\n",
    "service_definition = [item for item in owner_contents if item.type == 'Service Definition' ]\n",
    "service_definition"
   ]
  },
  {
   "cell_type": "code",
   "execution_count": null,
   "metadata": {},
   "outputs": [],
   "source": [
    "# Feature Service\n",
    "feature_service = [ item for item in owner_contents if item.type == 'Feature Service' ]\n",
    "feature_service"
   ]
  },
  {
   "cell_type": "markdown",
   "metadata": {
    "jp-MarkdownHeadingCollapsed": true,
    "tags": []
   },
   "source": [
    "#### Feature Layer"
   ]
  },
  {
   "cell_type": "code",
   "execution_count": null,
   "metadata": {},
   "outputs": [],
   "source": [
    "fl = feature_service[-2].layers[0]\n",
    "fs = fl.query() # Feature set"
   ]
  },
  {
   "cell_type": "code",
   "execution_count": null,
   "metadata": {},
   "outputs": [],
   "source": [
    "print(fs.features[0].geometry_type)\n",
    "fs.features[0].geometry"
   ]
  },
  {
   "cell_type": "markdown",
   "metadata": {
    "tags": []
   },
   "source": [
    "#### Clone"
   ]
  },
  {
   "cell_type": "code",
   "execution_count": null,
   "metadata": {},
   "outputs": [],
   "source": [
    "owner = 'prevfogo.dmc'\n",
    "# PRECISA CRIAR owner = prevfogo.adm no Portal de homologação\n",
    "#cloned_items = portal_agol.content.clone_items(items=owner_contents, owner=owner ) # testar se o owner pode criar no Portal"
   ]
  },
  {
   "cell_type": "markdown",
   "metadata": {
    "tags": []
   },
   "source": [
    "### Share/Unshare"
   ]
  },
  {
   "cell_type": "code",
   "execution_count": null,
   "metadata": {},
   "outputs": [],
   "source": [
    "item = portal_prod.content.get('9d0ed77c62164214b2e5fee0f52343b6')\n",
    "item"
   ]
  },
  {
   "cell_type": "code",
   "execution_count": null,
   "metadata": {},
   "outputs": [],
   "source": [
    "groups = getGroup( 'title:prevfogo', portal_prod )\n",
    "idxs = [2, 3] # Populate idxs * Grupo com atualização compartilhada não funciona! Ex.: DEV prevfogo\n",
    "groups_sub = [ groups[idx] for idx in idxs ]"
   ]
  },
  {
   "cell_type": "code",
   "execution_count": null,
   "metadata": {},
   "outputs": [],
   "source": [
    "item.shared_with"
   ]
  },
  {
   "cell_type": "code",
   "execution_count": null,
   "metadata": {},
   "outputs": [],
   "source": [
    "item.share( groups=groups_sub )"
   ]
  },
  {
   "cell_type": "code",
   "execution_count": null,
   "metadata": {},
   "outputs": [],
   "source": [
    "item.unshare( groups=groups_sub )"
   ]
  }
 ],
 "metadata": {
  "esriNotebookRuntime": {
   "notebookRuntimeName": "ArcGIS Notebook Python 3 Advanced",
   "notebookRuntimeVersion": "8.0"
  },
  "kernelspec": {
   "display_name": "Python 3 (ipykernel)",
   "language": "python",
   "name": "python3"
  },
  "language_info": {
   "codemirror_mode": {
    "name": "ipython",
    "version": 3
   },
   "file_extension": ".py",
   "mimetype": "text/x-python",
   "name": "python",
   "nbconvert_exporter": "python",
   "pygments_lexer": "ipython3",
   "version": "3.9.16"
  }
 },
 "nbformat": 4,
 "nbformat_minor": 4
}
