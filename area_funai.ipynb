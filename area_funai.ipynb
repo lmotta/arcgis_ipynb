{
 "cells": [
  {
   "cell_type": "markdown",
   "metadata": {
    "tags": []
   },
   "source": [
    "#### Portal"
   ]
  },
  {
   "cell_type": "code",
   "execution_count": 1,
   "metadata": {},
   "outputs": [],
   "source": [
    "from credential import credential\n",
    "\n",
    "cred_agol, cred_prod, cred_hom = credential('C:/Users/96328576749/Documents/_2023/arcgis_contas/arcgis_credential.json')"
   ]
  },
  {
   "cell_type": "code",
   "execution_count": 2,
   "metadata": {},
   "outputs": [],
   "source": [
    "from arcgis.gis import GIS\n",
    "portal = lambda cred: GIS( cred.host, cred.user, cred.pwd, verify_cert=False )\n",
    "\n",
    "portal_prod = portal( cred_prod )"
   ]
  },
  {
   "cell_type": "markdown",
   "metadata": {},
   "source": [
    "#### Get layer from Funai"
   ]
  },
  {
   "cell_type": "code",
   "execution_count": 3,
   "metadata": {},
   "outputs": [],
   "source": [
    "ds = portal_prod.content.get('91b4747d40964ac496277e57cd0a20ad')\n",
    "layer = ds.layers[0]"
   ]
  },
  {
   "cell_type": "code",
   "execution_count": 25,
   "metadata": {},
   "outputs": [
    {
     "data": {
      "text/plain": [
       "arcgis.gis.Item"
      ]
     },
     "execution_count": 25,
     "metadata": {},
     "output_type": "execute_result"
    }
   ],
   "source": [
    "type(ds)"
   ]
  },
  {
   "cell_type": "code",
   "execution_count": 10,
   "metadata": {},
   "outputs": [],
   "source": [
    "query = layer.query(out_fields='objectid') # All features"
   ]
  },
  {
   "cell_type": "markdown",
   "metadata": {},
   "source": [
    "#### Calculate area - Need Arcpy"
   ]
  },
  {
   "cell_type": "code",
   "execution_count": 13,
   "metadata": {},
   "outputs": [],
   "source": [
    "from arcgis.geometry import Geometry\n",
    "\n",
    "# Need 'arcpy' or proj4 for project_as\n",
    "area5641 = lambda feat: Geometry( feat.geometry ).project_as(spatial_reference='5641').area # https://epsg.io/5641"
   ]
  },
  {
   "cell_type": "code",
   "execution_count": 20,
   "metadata": {},
   "outputs": [],
   "source": [
    "area_ha = 0.0\n",
    "for feat in query.features:\n",
    "    area_ha += area5641( feat ) / 10000"
   ]
  },
  {
   "cell_type": "code",
   "execution_count": 21,
   "metadata": {},
   "outputs": [
    {
     "name": "stdout",
     "output_type": "stream",
     "text": [
      "Area Terra Indígena - FUNAI: 120041395.9670 (ha) - 627 features\n"
     ]
    }
   ],
   "source": [
    "print('Area {name}: {area:.4f} (ha) - {count} features'.format( name=layer.properties.name, area=area_ha, count=len(query) ) )"
   ]
  }
 ],
 "metadata": {
  "esriNotebookRuntime": {
   "notebookRuntimeName": "ArcGIS Notebook Python 3 Advanced",
   "notebookRuntimeVersion": "8.0"
  },
  "kernelspec": {
   "display_name": "Python 3 (ipykernel)",
   "language": "python",
   "name": "python3"
  },
  "language_info": {
   "codemirror_mode": {
    "name": "ipython",
    "version": 3
   },
   "file_extension": ".py",
   "mimetype": "text/x-python",
   "name": "python",
   "nbconvert_exporter": "python",
   "pygments_lexer": "ipython3",
   "version": "3.9.16"
  }
 },
 "nbformat": 4,
 "nbformat_minor": 4
}
