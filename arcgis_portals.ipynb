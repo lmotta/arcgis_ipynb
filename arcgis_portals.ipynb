{
 "cells": [
  {
   "cell_type": "markdown",
   "metadata": {
    "tags": []
   },
   "source": [
    "#### Portals"
   ]
  },
  {
   "cell_type": "code",
   "execution_count": 1,
   "metadata": {},
   "outputs": [],
   "source": [
    "from credential import credential\n",
    "\n",
    "cred_agol, cred_prod, cred_hom = credential('C:/Users/96328576749/Documents/_2023/arcgis_contas/arcgis_credential.json')"
   ]
  },
  {
   "cell_type": "code",
   "execution_count": null,
   "metadata": {},
   "outputs": [],
   "source": [
    "# https://developers.arcgis.com/python/guide/cloning-content/\n",
    "from arcgis.gis import GIS\n",
    "portal = lambda cred: GIS( cred.host, cred.user, cred.pwd, verify_cert=False )\n",
    "\n",
    "portal_prod = portal( cred_prod )\n",
    "portal_agol = portal( cred_agol )\n",
    "print( portal_prod, portal_agol )"
   ]
  }
 ],
 "metadata": {
  "esriNotebookRuntime": {
   "notebookRuntimeName": "ArcGIS Notebook Python 3 Advanced",
   "notebookRuntimeVersion": "8.0"
  },
  "kernelspec": {
   "display_name": "Python 3 (ipykernel)",
   "language": "python",
   "name": "python3"
  },
  "language_info": {
   "codemirror_mode": {
    "name": "ipython",
    "version": 3
   },
   "file_extension": ".py",
   "mimetype": "text/x-python",
   "name": "python",
   "nbconvert_exporter": "python",
   "pygments_lexer": "ipython3",
   "version": "3.9.16"
  }
 },
 "nbformat": 4,
 "nbformat_minor": 4
}
