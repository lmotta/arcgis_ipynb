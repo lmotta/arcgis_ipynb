{
 "cells": [
  {
   "cell_type": "markdown",
   "metadata": {
    "tags": []
   },
   "source": [
    "### Portals"
   ]
  },
  {
   "cell_type": "code",
   "execution_count": 1,
   "metadata": {
    "tags": []
   },
   "outputs": [],
   "source": [
    "from credential import credential\n",
    "\n",
    "cred_agol, cred_prod, cred_hom = credential('C:/Users/96328576749/Documents/_2023/arcgis_contas/arcgis_credential.json')"
   ]
  },
  {
   "cell_type": "code",
   "execution_count": 2,
   "metadata": {},
   "outputs": [
    {
     "name": "stderr",
     "output_type": "stream",
     "text": [
      "Setting `verify_cert` to False is a security risk, use at your own risk.\n"
     ]
    },
    {
     "name": "stdout",
     "output_type": "stream",
     "text": [
      "GIS @ https://pamgia.hom.ibama.gov.br/portal/ version:10.3\n"
     ]
    }
   ],
   "source": [
    "# https://developers.arcgis.com/python/guide/cloning-content/\n",
    "from arcgis.gis import GIS\n",
    "portal = lambda cred: GIS( cred.host, cred.user, cred.pwd, verify_cert=False )\n",
    "\n",
    "portal_hom = portal( cred_hom )\n",
    "print( portal_hom )"
   ]
  },
  {
   "cell_type": "markdown",
   "metadata": {},
   "source": [
    "### Group and users"
   ]
  },
  {
   "cell_type": "code",
   "execution_count": 13,
   "metadata": {},
   "outputs": [],
   "source": [
    "groups = portal_hom.groups.search(max_groups=200)"
   ]
  },
  {
   "cell_type": "code",
   "execution_count": 14,
   "metadata": {},
   "outputs": [
    {
     "data": {
      "text/plain": [
       "80"
      ]
     },
     "execution_count": 14,
     "metadata": {},
     "output_type": "execute_result"
    }
   ],
   "source": [
    "len(groups)"
   ]
  },
  {
   "cell_type": "code",
   "execution_count": 20,
   "metadata": {},
   "outputs": [
    {
     "data": {
      "text/plain": [
       "'<Group title:\"Acidentes e Emergências Ambientais\" owner:portaladmin>'"
      ]
     },
     "execution_count": 20,
     "metadata": {},
     "output_type": "execute_result"
    }
   ],
   "source": [
    "str(groups[0])"
   ]
  },
  {
   "cell_type": "code",
   "execution_count": null,
   "metadata": {},
   "outputs": [],
   "source": []
  },
  {
   "cell_type": "code",
   "execution_count": null,
   "metadata": {},
   "outputs": [],
   "source": [
    "def getGroup(search, portal):\n",
    "    groups = [] \n",
    "    idx = 0\n",
    "    for item in portal.groups.search(search, max_groups=50):\n",
    "        groups.append( item )\n",
    "        print( \"{idx}) {title}\".format( idx=idx, title=item.title ) )\n",
    "        idx += 1\n",
    "    return groups"
   ]
  },
  {
   "cell_type": "code",
   "execution_count": null,
   "metadata": {},
   "outputs": [],
   "source": [
    "# Print and populate groups\n",
    "groups = getGroup( 'title:prevfogo', portal_hom )"
   ]
  },
  {
   "cell_type": "code",
   "execution_count": null,
   "metadata": {
    "tags": []
   },
   "outputs": [],
   "source": [
    "idxs = [1, 2] # Populate idxs, Grupo com atualização compartilhada não funciona!\n",
    "groups_sub = [ groups[idx] for idx in idxs ]\n",
    "groups_sub"
   ]
  },
  {
   "cell_type": "code",
   "execution_count": null,
   "metadata": {},
   "outputs": [],
   "source": []
  },
  {
   "cell_type": "markdown",
   "metadata": {
    "tags": []
   },
   "source": [
    "### Share/Unshare"
   ]
  },
  {
   "cell_type": "code",
   "execution_count": null,
   "metadata": {},
   "outputs": [],
   "source": [
    "item = portal_prod.content.get('9d0ed77c62164214b2e5fee0f52343b6')\n",
    "item"
   ]
  },
  {
   "cell_type": "code",
   "execution_count": null,
   "metadata": {},
   "outputs": [],
   "source": [
    "groups = getGroup( 'title:prevfogo', portal_prod )\n",
    "idxs = [2, 3] # Populate idxs * Grupo com atualização compartilhada não funciona! Ex.: DEV prevfogo\n",
    "groups_sub = [ groups[idx] for idx in idxs ]"
   ]
  },
  {
   "cell_type": "code",
   "execution_count": null,
   "metadata": {},
   "outputs": [],
   "source": [
    "item.shared_with"
   ]
  },
  {
   "cell_type": "code",
   "execution_count": null,
   "metadata": {},
   "outputs": [],
   "source": [
    "item.share( groups=groups_sub )"
   ]
  },
  {
   "cell_type": "code",
   "execution_count": null,
   "metadata": {},
   "outputs": [],
   "source": [
    "item.unshare( groups=groups_sub )"
   ]
  },
  {
   "cell_type": "code",
   "execution_count": null,
   "metadata": {},
   "outputs": [],
   "source": [
    "# Compartilhar no grupo 'Prevfogo_teste' os items que estão no folder 'producao'\n",
    "for item in me.items(folder='producao'):\n",
    "    item.share( groups=group_prevfogo_teste)"
   ]
  },
  {
   "cell_type": "code",
   "execution_count": null,
   "metadata": {},
   "outputs": [],
   "source": [
    "# NÃO FUNCIONOU - 30/06\n",
    "# Change owner and add folder\n",
    "folder_from = 'producao'\n",
    "folder_to = 'producao'\n",
    "for item in me.items(folder=folder_from):\n",
    "    item.reassign_to(user_pedro, target_folder=folder_to)"
   ]
  },
  {
   "cell_type": "code",
   "execution_count": null,
   "metadata": {},
   "outputs": [],
   "source": []
  }
 ],
 "metadata": {
  "esriNotebookRuntime": {
   "notebookRuntimeName": "ArcGIS Notebook Python 3 Advanced",
   "notebookRuntimeVersion": "8.0"
  },
  "kernelspec": {
   "display_name": "Python 3 (ipykernel)",
   "language": "python",
   "name": "python3"
  },
  "language_info": {
   "codemirror_mode": {
    "name": "ipython",
    "version": 3
   },
   "file_extension": ".py",
   "mimetype": "text/x-python",
   "name": "python",
   "nbconvert_exporter": "python",
   "pygments_lexer": "ipython3",
   "version": "3.9.16"
  }
 },
 "nbformat": 4,
 "nbformat_minor": 4
}
